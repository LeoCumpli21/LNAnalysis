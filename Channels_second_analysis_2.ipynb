{
 "cells": [
  {
   "cell_type": "markdown",
   "id": "dd59db3a",
   "metadata": {},
   "source": [
    "# Continue channels analysis based on their activity"
   ]
  },
  {
   "cell_type": "code",
   "execution_count": 2,
   "id": "a6f5a9f1",
   "metadata": {},
   "outputs": [],
   "source": [
    "import pandas as pd\n",
    "import numpy as np\n",
    "%matplotlib inline\n",
    "import matplotlib.pyplot as plt\n",
    "import seaborn as sns"
   ]
  },
  {
   "cell_type": "code",
   "execution_count": 3,
   "id": "0b75b19e",
   "metadata": {},
   "outputs": [],
   "source": [
    "import warnings\n",
    "warnings.filterwarnings(\"ignore\")"
   ]
  },
  {
   "cell_type": "code",
   "execution_count": 8,
   "id": "92faf4ba",
   "metadata": {},
   "outputs": [],
   "source": [
    "# This is just for style to the charts\n",
    "import seaborn as sns\n",
    "\n",
    "sns.set_style('darkgrid') # darkgrid, white grid, dark, white and ticks\n",
    "plt.rc('axes', titlesize=16)     # fontsize of the axes title\n",
    "plt.rc('axes', labelsize=13)    # fontsize of the x and y labels\n",
    "plt.rc('xtick', labelsize=12)    # fontsize of the tick labels\n",
    "plt.rc('ytick', labelsize=12)    # fontsize of the tick labels\n",
    "plt.rc('legend', fontsize=12)    # legend fontsize\n",
    "plt.rc('font', size=12)          # controls default text sizes"
   ]
  },
  {
   "cell_type": "code",
   "execution_count": 13,
   "id": "81924553",
   "metadata": {},
   "outputs": [],
   "source": [
    "def add_pubkey2(series, channels):\n",
    "    channels = channels.drop_duplicates(['chan_id'], keep='last')\n",
    "    channels['chan_id'] = channels['chan_id'].astype(np.int64)\n",
    "    series = series.reset_index().rename({'index':'outgoing_channel_id',\n",
    "                                      0:'balanced_metric'}, axis=1)\n",
    "    series['pubkey'] = ''\n",
    "    out_chan_ids = series['outgoing_channel_id'].unique()\n",
    "    \n",
    "    for i in out_chan_ids:\n",
    "        \n",
    "        for z, j in channels[['chan_id', 'pub_key']].iterrows():\n",
    "            \n",
    "            if i == j['chan_id']:\n",
    "                series.loc[series['outgoing_channel_id'] == i, 'pubkey'] = j['pub_key']\n",
    "                \n",
    "                break\n",
    "                \n",
    "    return series['pubkey']"
   ]
  },
  {
   "cell_type": "markdown",
   "id": "381bc403",
   "metadata": {},
   "source": [
    "**In the first notebook we create a dataframe of the peer nodes connected to our channels. Let's bring that dataframe here and continue with the analysis.**"
   ]
  },
  {
   "cell_type": "code",
   "execution_count": 4,
   "id": "8783dbd6",
   "metadata": {},
   "outputs": [],
   "source": [
    "active_routing_nodes = pd.read_csv('active_routing_nodes.csv', index_col=0)"
   ]
  },
  {
   "cell_type": "code",
   "execution_count": 6,
   "id": "87463d4d",
   "metadata": {},
   "outputs": [
    {
     "data": {
      "text/html": [
       "<div>\n",
       "<style scoped>\n",
       "    .dataframe tbody tr th:only-of-type {\n",
       "        vertical-align: middle;\n",
       "    }\n",
       "\n",
       "    .dataframe tbody tr th {\n",
       "        vertical-align: top;\n",
       "    }\n",
       "\n",
       "    .dataframe thead th {\n",
       "        text-align: right;\n",
       "    }\n",
       "</style>\n",
       "<table border=\"1\" class=\"dataframe\">\n",
       "  <thead>\n",
       "    <tr style=\"text-align: right;\">\n",
       "      <th></th>\n",
       "      <th>success_rate</th>\n",
       "      <th>alias</th>\n",
       "      <th>balanced_rate</th>\n",
       "      <th>total_Forwards</th>\n",
       "    </tr>\n",
       "    <tr>\n",
       "      <th>pubkey</th>\n",
       "      <th></th>\n",
       "      <th></th>\n",
       "      <th></th>\n",
       "      <th></th>\n",
       "    </tr>\n",
       "  </thead>\n",
       "  <tbody>\n",
       "    <tr>\n",
       "      <th>0203f3e0fdaa52ca5c804d145b6a47e5a620c02123106578230061deb212e720bd</th>\n",
       "      <td>0.002255</td>\n",
       "      <td>0203f3e0fdaa52ca5c80</td>\n",
       "      <td>0.292635</td>\n",
       "      <td>3104.0</td>\n",
       "    </tr>\n",
       "    <tr>\n",
       "      <th>0205306aa071fc026a4884c210d99d886f199068a6ccc65ec1bde085f846be3641</th>\n",
       "      <td>0.003647</td>\n",
       "      <td>Magrathea</td>\n",
       "      <td>0.672870</td>\n",
       "      <td>4113.0</td>\n",
       "    </tr>\n",
       "  </tbody>\n",
       "</table>\n",
       "</div>"
      ],
      "text/plain": [
       "                                                    success_rate  \\\n",
       "pubkey                                                             \n",
       "0203f3e0fdaa52ca5c804d145b6a47e5a620c0212310657...      0.002255   \n",
       "0205306aa071fc026a4884c210d99d886f199068a6ccc65...      0.003647   \n",
       "\n",
       "                                                                   alias  \\\n",
       "pubkey                                                                     \n",
       "0203f3e0fdaa52ca5c804d145b6a47e5a620c0212310657...  0203f3e0fdaa52ca5c80   \n",
       "0205306aa071fc026a4884c210d99d886f199068a6ccc65...             Magrathea   \n",
       "\n",
       "                                                    balanced_rate  \\\n",
       "pubkey                                                              \n",
       "0203f3e0fdaa52ca5c804d145b6a47e5a620c0212310657...       0.292635   \n",
       "0205306aa071fc026a4884c210d99d886f199068a6ccc65...       0.672870   \n",
       "\n",
       "                                                    total_Forwards  \n",
       "pubkey                                                              \n",
       "0203f3e0fdaa52ca5c804d145b6a47e5a620c0212310657...          3104.0  \n",
       "0205306aa071fc026a4884c210d99d886f199068a6ccc65...          4113.0  "
      ]
     },
     "execution_count": 6,
     "metadata": {},
     "output_type": "execute_result"
    }
   ],
   "source": [
    "active_routing_nodes.head(2)"
   ]
  },
  {
   "cell_type": "markdown",
   "id": "0c243fb4",
   "metadata": {},
   "source": [
    "## Add total revenue to the analysis"
   ]
  },
  {
   "cell_type": "code",
   "execution_count": 11,
   "id": "87f665b0",
   "metadata": {},
   "outputs": [],
   "source": [
    "# Open forwards dataset\n",
    "forwards_path = '../Datos/forwards_2022-06-29.csv'\n",
    "df_forwards = pd.read_csv(forwards_path)\n",
    "\n",
    "# changing the type of the channel ids to be displayed correctly\n",
    "df_forwards[['outgoing_channel_id', 'incoming_channel_id']] = df_forwards[['outgoing_channel_id', \n",
    "                                                                           'incoming_channel_id']].astype(np.int64)"
   ]
  },
  {
   "cell_type": "code",
   "execution_count": 14,
   "id": "23d16212",
   "metadata": {},
   "outputs": [],
   "source": [
    "# Open channel events dataset\n",
    "channels_path = '../Datos/channel_events_2022-06-29.csv'\n",
    "df_channels = pd.read_csv(channels_path)\n",
    "df_channels['chan_id'] = df_channels['chan_id'].astype(np.int64)"
   ]
  },
  {
   "cell_type": "code",
   "execution_count": 12,
   "id": "e5bc4c31",
   "metadata": {},
   "outputs": [],
   "source": [
    "# total revenue\n",
    "total_revenue_df = df_forwards.groupby('outgoing_channel_id')['fee_msat'].aggregate('sum')"
   ]
  },
  {
   "cell_type": "code",
   "execution_count": 16,
   "id": "10403ed9",
   "metadata": {},
   "outputs": [
    {
     "data": {
      "text/html": [
       "<div>\n",
       "<style scoped>\n",
       "    .dataframe tbody tr th:only-of-type {\n",
       "        vertical-align: middle;\n",
       "    }\n",
       "\n",
       "    .dataframe tbody tr th {\n",
       "        vertical-align: top;\n",
       "    }\n",
       "\n",
       "    .dataframe thead th {\n",
       "        text-align: right;\n",
       "    }\n",
       "</style>\n",
       "<table border=\"1\" class=\"dataframe\">\n",
       "  <thead>\n",
       "    <tr style=\"text-align: right;\">\n",
       "      <th></th>\n",
       "      <th>outgoing_channel_id</th>\n",
       "      <th>fee_msat</th>\n",
       "    </tr>\n",
       "    <tr>\n",
       "      <th>pubkey</th>\n",
       "      <th></th>\n",
       "      <th></th>\n",
       "    </tr>\n",
       "  </thead>\n",
       "  <tbody>\n",
       "    <tr>\n",
       "      <th>027578e823ce91a00ef9576d3d24e0a21abfa3332ba186654730a0c8804cbb844b</th>\n",
       "      <td>767907716957798400</td>\n",
       "      <td>212160.0</td>\n",
       "    </tr>\n",
       "    <tr>\n",
       "      <th>02b37a7de2b3a6b4b04485a2a6eba03feff0d5d34813a0401d09fbcbfedfbb1a1f</th>\n",
       "      <td>767913214610702336</td>\n",
       "      <td>16814.0</td>\n",
       "    </tr>\n",
       "  </tbody>\n",
       "</table>\n",
       "</div>"
      ],
      "text/plain": [
       "                                                    outgoing_channel_id  \\\n",
       "pubkey                                                                    \n",
       "027578e823ce91a00ef9576d3d24e0a21abfa3332ba1866...   767907716957798400   \n",
       "02b37a7de2b3a6b4b04485a2a6eba03feff0d5d34813a04...   767913214610702336   \n",
       "\n",
       "                                                    fee_msat  \n",
       "pubkey                                                        \n",
       "027578e823ce91a00ef9576d3d24e0a21abfa3332ba1866...  212160.0  \n",
       "02b37a7de2b3a6b4b04485a2a6eba03feff0d5d34813a04...   16814.0  "
      ]
     },
     "execution_count": 16,
     "metadata": {},
     "output_type": "execute_result"
    }
   ],
   "source": [
    "total_revenue = total_revenue_df.copy()\n",
    "total_revenue = total_revenue.reset_index()\n",
    "# Add pubkey of the peers the channels are linked to\n",
    "total_revenue['pubkey'] = add_pubkey2(total_revenue_df, df_channels)\n",
    "\n",
    "total_revenue.set_index('pubkey', inplace=True)\n",
    "total_revenue.rename({0:'normalized_revenue'}, axis=1, inplace=True)\n",
    "total_revenue.head(2)"
   ]
  },
  {
   "cell_type": "code",
   "execution_count": 24,
   "id": "fe4d23d9",
   "metadata": {},
   "outputs": [],
   "source": [
    "# Drop duplicates\n",
    "total_revenue = total_revenue.reset_index().sort_values(by='fee_msat').drop_duplicates('pubkey', keep='last').set_index('pubkey')"
   ]
  },
  {
   "cell_type": "code",
   "execution_count": 25,
   "id": "2d8438d5",
   "metadata": {},
   "outputs": [],
   "source": [
    "active_routing_nodes['total_revenue'] = total_revenue['fee_msat']"
   ]
  },
  {
   "cell_type": "code",
   "execution_count": 27,
   "id": "46dcf47e",
   "metadata": {},
   "outputs": [],
   "source": [
    "# active_routing_nodes.head(5)"
   ]
  },
  {
   "cell_type": "code",
   "execution_count": 29,
   "id": "802b849b",
   "metadata": {},
   "outputs": [
    {
     "data": {
      "image/png": "[encoded data removed]",
      "text/plain": [
       "<Figure size 432x288 with 1 Axes>"
      ]
     },
     "metadata": {},
     "output_type": "display_data"
    }
   ],
   "source": [
    "plt.scatter(active_routing_nodes['success_rate'],active_routing_nodes['total_revenue'])\n",
    "plt.title('success rate vs revenue')\n",
    "plt.ylabel('Revenue (msats)')\n",
    "_ = plt.xlabel('Success rate')"
   ]
  },
  {
   "cell_type": "markdown",
   "id": "65afffbe",
   "metadata": {},
   "source": [
    "We see an increasing patter where if the success rate increases, the revenue does too. It makes total sense, since if a channel forwards more payments successfully, then it will charge more fees."
   ]
  },
  {
   "cell_type": "code",
   "execution_count": 76,
   "id": "e780c86b",
   "metadata": {
    "scrolled": false
   },
   "outputs": [],
   "source": [
    "def compute_corr_mat(df):\n",
    "    \"\"\"Creates the correlation matrix\"\"\"\n",
    "    \n",
    "    corr = df.corr()\n",
    "\n",
    "    # Generate a mask for the upper triangle\n",
    "    mask = np.triu(np.ones_like(corr, dtype=bool))\n",
    "\n",
    "    # Set up the matplotlib figure\n",
    "    f, ax = plt.subplots(figsize=(11, 9))\n",
    "\n",
    "    # Generate a custom diverging colormap\n",
    "    cmap = sns.diverging_palette(230, 20, as_cmap=True)\n",
    "\n",
    "    # Draw the heatmap with the mask and correct aspect ratio\n",
    "    sns.heatmap(corr, mask=mask, cmap=cmap, vmax=.3, center=0,\n",
    "                square=True, linewidths=.5, cbar_kws={\"shrink\": .5})\n",
    "\n",
    "    _ = plt.title('Correlation Matrix')\n",
    "    return corr"
   ]
  },
  {
   "cell_type": "code",
   "execution_count": 49,
   "id": "a7073b20",
   "metadata": {},
   "outputs": [
    {
     "data": {
      "image/png": "[encoded data removed]",
      "text/plain": [
       "<Figure size 648x504 with 2 Axes>"
      ]
     },
     "metadata": {},
     "output_type": "display_data"
    }
   ],
   "source": [
    "c = compute_corr_mat(active_routing_nodes[['success_rate','balanced_rate','total_Forwards','total_revenue']])"
   ]
  },
  {
   "cell_type": "code",
   "execution_count": 50,
   "id": "69cdf77a",
   "metadata": {},
   "outputs": [
    {
     "data": {
      "text/html": [
       "<div>\n",
       "<style scoped>\n",
       "    .dataframe tbody tr th:only-of-type {\n",
       "        vertical-align: middle;\n",
       "    }\n",
       "\n",
       "    .dataframe tbody tr th {\n",
       "        vertical-align: top;\n",
       "    }\n",
       "\n",
       "    .dataframe thead th {\n",
       "        text-align: right;\n",
       "    }\n",
       "</style>\n",
       "<table border=\"1\" class=\"dataframe\">\n",
       "  <thead>\n",
       "    <tr style=\"text-align: right;\">\n",
       "      <th></th>\n",
       "      <th>success_rate</th>\n",
       "      <th>balanced_rate</th>\n",
       "      <th>total_Forwards</th>\n",
       "      <th>total_revenue</th>\n",
       "    </tr>\n",
       "  </thead>\n",
       "  <tbody>\n",
       "    <tr>\n",
       "      <th>success_rate</th>\n",
       "      <td>1.000000</td>\n",
       "      <td>0.276779</td>\n",
       "      <td>-0.131584</td>\n",
       "      <td>0.293115</td>\n",
       "    </tr>\n",
       "    <tr>\n",
       "      <th>balanced_rate</th>\n",
       "      <td>0.276779</td>\n",
       "      <td>1.000000</td>\n",
       "      <td>0.213419</td>\n",
       "      <td>0.313988</td>\n",
       "    </tr>\n",
       "    <tr>\n",
       "      <th>total_Forwards</th>\n",
       "      <td>-0.131584</td>\n",
       "      <td>0.213419</td>\n",
       "      <td>1.000000</td>\n",
       "      <td>0.219504</td>\n",
       "    </tr>\n",
       "    <tr>\n",
       "      <th>total_revenue</th>\n",
       "      <td>0.293115</td>\n",
       "      <td>0.313988</td>\n",
       "      <td>0.219504</td>\n",
       "      <td>1.000000</td>\n",
       "    </tr>\n",
       "  </tbody>\n",
       "</table>\n",
       "</div>"
      ],
      "text/plain": [
       "                success_rate  balanced_rate  total_Forwards  total_revenue\n",
       "success_rate        1.000000       0.276779       -0.131584       0.293115\n",
       "balanced_rate       0.276779       1.000000        0.213419       0.313988\n",
       "total_Forwards     -0.131584       0.213419        1.000000       0.219504\n",
       "total_revenue       0.293115       0.313988        0.219504       1.000000"
      ]
     },
     "execution_count": 50,
     "metadata": {},
     "output_type": "execute_result"
    }
   ],
   "source": [
    "c"
   ]
  },
  {
   "cell_type": "markdown",
   "id": "b7ef5c1a",
   "metadata": {},
   "source": [
    "- *Total forwards* and *total revenue* are positively correalted. This makes sense, since the more successful payments forwarded, the more fees you would charge. \n",
    "- *Success rate* and *total_revenue* are correlated, just like *balanced rate* and *total revenue*. Remember in the first notebook we stated why when a channel is balanced it might present more traffic. It it does, then it's success rate might increase as well, hence increasing the total revenue. \n",
    "\n",
    "Se how everything **connects** with everything."
   ]
  },
  {
   "cell_type": "markdown",
   "id": "af9a7a80",
   "metadata": {},
   "source": [
    "## Does channels linked to nodes with more channels have more forwardattempts?"
   ]
  },
  {
   "cell_type": "markdown",
   "id": "37b4feec",
   "metadata": {},
   "source": [
    "**ADD THE TOTAL NUMBER OF CHANNELS A NODE HAS TO THE ANALYSIS**"
   ]
  },
  {
   "cell_type": "code",
   "execution_count": 55,
   "id": "56b15a76",
   "metadata": {},
   "outputs": [],
   "source": [
    "import json\n",
    "from pandas import json_normalize"
   ]
  },
  {
   "cell_type": "code",
   "execution_count": 63,
   "id": "aafb110c",
   "metadata": {},
   "outputs": [],
   "source": [
    "def add_node_chan_info(df_nodes, df_channels):\n",
    "    df_nodes = pd.concat([\n",
    "        df_nodes,\n",
    "        pd.DataFrame(columns=[\n",
    "                'num_channels',\n",
    "        ])\n",
    "    ], sort=False)\n",
    "    \n",
    "    for index, node in df_nodes.iterrows():\n",
    "\n",
    "        pub_key = node['pub_key']\n",
    "        # obtain those channels that were opened by this specific node\n",
    "        node1_channels = df_channels[df_channels.node1_pub == pub_key]\n",
    "        \n",
    "        # obtain those channels that were opened by other nodes\n",
    "        node2_channels = df_channels[df_channels.node2_pub == pub_key]\n",
    "\n",
    "        df_nodes.loc[index, 'num_channels'] = node1_channels.shape[0] + node2_channels.shape[0]\n",
    "\n",
    "    return df_nodes"
   ]
  },
  {
   "cell_type": "code",
   "execution_count": null,
   "id": "ddc09f5f",
   "metadata": {},
   "outputs": [],
   "source": [
    "# This is the whole network graph dataset\n",
    "file_name = '../Datos/graph_metrics_2022-06-29.json'\n",
    "graph_data = open(file_name, encoding='utf8')\n",
    "graph_json = json.load(graph_data)\n",
    "# converting data to pd dfs\n",
    "nodes_graph = json_normalize(graph_json['nodes'])\n",
    "channels_graph = json_normalize(graph_json['edges'])\n",
    "channels_graph.channel_id = channels_graph.capacity.astype(int)\n",
    "channels_graph.capacity = channels_graph.capacity.astype(int)"
   ]
  },
  {
   "cell_type": "code",
   "execution_count": null,
   "id": "49393f1f",
   "metadata": {},
   "outputs": [],
   "source": [
    "ln_graph = add_node_chan_info(nodes_graph, channels_graph)\n",
    "# You can comment this cell and the one above when they finish runing.\n",
    "# This cell takes its time to process."
   ]
  },
  {
   "cell_type": "code",
   "execution_count": null,
   "id": "752f2b2d",
   "metadata": {},
   "outputs": [],
   "source": [
    "# You may comment this cell after running it.\n",
    "ln_graph.to_csv('ln_graph.csv', encoding='utf-8')"
   ]
  },
  {
   "cell_type": "code",
   "execution_count": 56,
   "id": "0ebb6e6b",
   "metadata": {},
   "outputs": [],
   "source": [
    "# If the cells above have been run once, then you can comment them and load\n",
    "# the network graph directly from the dataset saved in the above cell.\n",
    "ln_graph = pd.read_csv('ln_graph.csv', index_col=0)"
   ]
  },
  {
   "cell_type": "code",
   "execution_count": 57,
   "id": "01c50efa",
   "metadata": {},
   "outputs": [],
   "source": [
    "# Appending peers number of channels to the analysis\n",
    "active_routing_nodes['num_channels'] = ln_graph.set_index('pub_key')['num_channels']"
   ]
  },
  {
   "cell_type": "code",
   "execution_count": 58,
   "id": "5f73428a",
   "metadata": {},
   "outputs": [
    {
     "data": {
      "text/plain": [
       "9"
      ]
     },
     "execution_count": 58,
     "metadata": {},
     "output_type": "execute_result"
    }
   ],
   "source": [
    "active_routing_nodes['num_channels'].isna().sum()\n",
    "# If there are nan values, it means some nodes in the network are dead already"
   ]
  },
  {
   "cell_type": "code",
   "execution_count": 59,
   "id": "7ab3494c",
   "metadata": {},
   "outputs": [],
   "source": [
    "# set nan values to 0\n",
    "active_routing_nodes['num_channels'].fillna(0, inplace=True)"
   ]
  },
  {
   "cell_type": "code",
   "execution_count": 60,
   "id": "45635229",
   "metadata": {},
   "outputs": [],
   "source": [
    "# Filtering out channels connected to dead nodes.\n",
    "active_routing_nodes = active_routing_nodes[active_routing_nodes['num_channels'] != 0]"
   ]
  },
  {
   "cell_type": "code",
   "execution_count": 67,
   "id": "98379164",
   "metadata": {},
   "outputs": [
    {
     "data": {
      "image/png": "[encoded data removed]",
      "text/plain": [
       "<Figure size 576x432 with 1 Axes>"
      ]
     },
     "metadata": {},
     "output_type": "display_data"
    }
   ],
   "source": [
    "plt.figure(figsize=(8,6))\n",
    "plt.scatter(active_routing_nodes['num_channels'], active_routing_nodes['total_Forwards'], label='channels')\n",
    "plt.ylabel('Total forwards')\n",
    "plt.xlabel('Number of channels')\n",
    "plt.legend()\n",
    "\n",
    "_ = plt.title('Relation between peer number of channels and forward attempts')"
   ]
  },
  {
   "cell_type": "code",
   "execution_count": 78,
   "id": "9d780ce0",
   "metadata": {},
   "outputs": [
    {
     "data": {
      "text/html": [
       "<div>\n",
       "<style scoped>\n",
       "    .dataframe tbody tr th:only-of-type {\n",
       "        vertical-align: middle;\n",
       "    }\n",
       "\n",
       "    .dataframe tbody tr th {\n",
       "        vertical-align: top;\n",
       "    }\n",
       "\n",
       "    .dataframe thead th {\n",
       "        text-align: right;\n",
       "    }\n",
       "</style>\n",
       "<table border=\"1\" class=\"dataframe\">\n",
       "  <thead>\n",
       "    <tr style=\"text-align: right;\">\n",
       "      <th></th>\n",
       "      <th>success_rate</th>\n",
       "      <th>balanced_rate</th>\n",
       "      <th>total_Forwards</th>\n",
       "      <th>total_revenue</th>\n",
       "      <th>num_channels</th>\n",
       "    </tr>\n",
       "  </thead>\n",
       "  <tbody>\n",
       "    <tr>\n",
       "      <th>success_rate</th>\n",
       "      <td>1.000000</td>\n",
       "      <td>0.251656</td>\n",
       "      <td>-0.147589</td>\n",
       "      <td>0.288645</td>\n",
       "      <td>-0.089388</td>\n",
       "    </tr>\n",
       "    <tr>\n",
       "      <th>balanced_rate</th>\n",
       "      <td>0.251656</td>\n",
       "      <td>1.000000</td>\n",
       "      <td>0.199773</td>\n",
       "      <td>0.300264</td>\n",
       "      <td>-0.010831</td>\n",
       "    </tr>\n",
       "    <tr>\n",
       "      <th>total_Forwards</th>\n",
       "      <td>-0.147589</td>\n",
       "      <td>0.199773</td>\n",
       "      <td>1.000000</td>\n",
       "      <td>0.185880</td>\n",
       "      <td>0.206207</td>\n",
       "    </tr>\n",
       "    <tr>\n",
       "      <th>total_revenue</th>\n",
       "      <td>0.288645</td>\n",
       "      <td>0.300264</td>\n",
       "      <td>0.185880</td>\n",
       "      <td>1.000000</td>\n",
       "      <td>0.118454</td>\n",
       "    </tr>\n",
       "    <tr>\n",
       "      <th>num_channels</th>\n",
       "      <td>-0.089388</td>\n",
       "      <td>-0.010831</td>\n",
       "      <td>0.206207</td>\n",
       "      <td>0.118454</td>\n",
       "      <td>1.000000</td>\n",
       "    </tr>\n",
       "  </tbody>\n",
       "</table>\n",
       "</div>"
      ],
      "text/plain": [
       "                success_rate  balanced_rate  total_Forwards  total_revenue  \\\n",
       "success_rate        1.000000       0.251656       -0.147589       0.288645   \n",
       "balanced_rate       0.251656       1.000000        0.199773       0.300264   \n",
       "total_Forwards     -0.147589       0.199773        1.000000       0.185880   \n",
       "total_revenue       0.288645       0.300264        0.185880       1.000000   \n",
       "num_channels       -0.089388      -0.010831        0.206207       0.118454   \n",
       "\n",
       "                num_channels  \n",
       "success_rate       -0.089388  \n",
       "balanced_rate      -0.010831  \n",
       "total_Forwards      0.206207  \n",
       "total_revenue       0.118454  \n",
       "num_channels        1.000000  "
      ]
     },
     "execution_count": 78,
     "metadata": {},
     "output_type": "execute_result"
    },
    {
     "data": {
      "image/png": "[encoded data removed]",
      "text/plain": [
       "<Figure size 792x648 with 2 Axes>"
      ]
     },
     "metadata": {},
     "output_type": "display_data"
    }
   ],
   "source": [
    "# Compute the correlation matrix\n",
    "corr = compute_corr_mat(active_routing_nodes[['success_rate','balanced_rate','total_Forwards','total_revenue', 'num_channels']])\n",
    "corr"
   ]
  },
  {
   "cell_type": "code",
   "execution_count": 69,
   "id": "1b635e2c",
   "metadata": {},
   "outputs": [
    {
     "data": {
      "text/plain": [
       "Ttest_indResult(statistic=-6.788475508446619, pvalue=2.670410890792175e-09)"
      ]
     },
     "execution_count": 69,
     "metadata": {},
     "output_type": "execute_result"
    }
   ],
   "source": [
    "import scipy.stats as stats\n",
    "# compute p value\n",
    "stats.ttest_ind(a=active_routing_nodes['num_channels'],b=active_routing_nodes['total_Forwards'],equal_var=False)"
   ]
  },
  {
   "cell_type": "markdown",
   "id": "86cc5508",
   "metadata": {},
   "source": [
    "Based on this data, the answer to our question is yes, channels linked to nodes with more channels have more forward attempts. However, it seems like there's a limit to the number of channels a node has that increases significantly the forward attempts of our channel linked to that node. We saw this in the chart relating these two features, where an increasing pattern breaks after a peer node has 250+ channels.\n",
    "\n",
    "The correlation matrix confirms there's a weak correlation between these features.\n",
    "\n",
    "So, if we're looking to increase our node activity, **with who we may create channels?**"
   ]
  },
  {
   "cell_type": "code",
   "execution_count": 83,
   "id": "7bf19df0",
   "metadata": {},
   "outputs": [
    {
     "data": {
      "image/png": "[encoded data removed]",
      "text/plain": [
       "<Figure size 576x432 with 1 Axes>"
      ]
     },
     "metadata": {},
     "output_type": "display_data"
    }
   ],
   "source": [
    "plt.figure(figsize=(8,6))\n",
    "plt.scatter(active_routing_nodes['balanced_rate'], active_routing_nodes['num_channels'], label='channels')\n",
    "plt.ylabel('Total forwards')\n",
    "plt.xlabel('Number of channels')\n",
    "plt.legend()\n",
    "\n",
    "_ = plt.title('Relation between peer number of channels and forward attempts')"
   ]
  }
 ],
 "metadata": {
  "kernelspec": {
   "display_name": "Python 3 (ipykernel)",
   "language": "python",
   "name": "python3"
  },
  "language_info": {
   "codemirror_mode": {
    "name": "ipython",
    "version": 3
   },
   "file_extension": ".py",
   "mimetype": "text/x-python",
   "name": "python",
   "nbconvert_exporter": "python",
   "pygments_lexer": "ipython3",
   "version": "3.8.12"
  }
 },
 "nbformat": 4,
 "nbformat_minor": 5
}
