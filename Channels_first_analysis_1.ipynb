{
 "cells": [
  {
   "cell_type": "markdown",
   "id": "644f9627",
   "metadata": {},
   "source": [
    "# Forwards data analysis"
   ]
  },
  {
   "cell_type": "code",
   "execution_count": 1,
   "id": "335eea86",
   "metadata": {},
   "outputs": [],
   "source": [
    "import pandas as pd\n",
    "import numpy as np\n",
    "%matplotlib inline\n",
    "import matplotlib.pyplot as plt"
   ]
  },
  {
   "cell_type": "code",
   "execution_count": 2,
   "id": "f5e6b6f4",
   "metadata": {},
   "outputs": [],
   "source": [
    "import warnings\n",
    "warnings.filterwarnings(\"ignore\")"
   ]
  },
  {
   "cell_type": "markdown",
   "id": "af1ea2de",
   "metadata": {},
   "source": [
    "**Uploading forwards csv**"
   ]
  },
  {
   "cell_type": "code",
   "execution_count": 3,
   "id": "9ce31f12",
   "metadata": {},
   "outputs": [],
   "source": [
    "forwards_path = '../Datos/forwards_2022-06-29.csv'\n",
    "df_forwards = pd.read_csv(forwards_path)"
   ]
  },
  {
   "cell_type": "code",
   "execution_count": 4,
   "id": "b781930b",
   "metadata": {
    "scrolled": true
   },
   "outputs": [],
   "source": [
    "# df_forwards.head()"
   ]
  },
  {
   "cell_type": "code",
   "execution_count": 5,
   "id": "d7f77c14",
   "metadata": {},
   "outputs": [
    {
     "data": {
      "text/plain": [
       "19561"
      ]
     },
     "execution_count": 5,
     "metadata": {},
     "output_type": "execute_result"
    }
   ],
   "source": [
    "df_forwards.shape[0]\n",
    "# this is the number of successful forwards your node has recorded"
   ]
  },
  {
   "cell_type": "code",
   "execution_count": 6,
   "id": "84ec488d",
   "metadata": {},
   "outputs": [],
   "source": [
    "# changing the type of the channel ids to be displayed correctly\n",
    "df_forwards[['outgoing_channel_id', 'incoming_channel_id']] = df_forwards[['outgoing_channel_id', \n",
    "                                                                           'incoming_channel_id']].astype(np.int64)"
   ]
  },
  {
   "cell_type": "markdown",
   "id": "e995b9e2",
   "metadata": {},
   "source": [
    "## Incoming/Outgoing/Balanced tagging task"
   ]
  },
  {
   "cell_type": "markdown",
   "id": "f76750fa",
   "metadata": {},
   "source": [
    "**Creating df for this task**"
   ]
  },
  {
   "cell_type": "code",
   "execution_count": 7,
   "id": "06262754",
   "metadata": {},
   "outputs": [
    {
     "data": {
      "text/plain": [
       "(185, 4)"
      ]
     },
     "execution_count": 7,
     "metadata": {},
     "output_type": "execute_result"
    }
   ],
   "source": [
    "task1_df = pd.DataFrame(index=df_forwards['outgoing_channel_id'].value_counts().index, \n",
    "                        columns=['times_incoming', \n",
    "                                 'times_outgoing', \n",
    "                                 'total_incoming_amt',\n",
    "                                 'total_outgoing_amt'])\n",
    "task1_df.shape"
   ]
  },
  {
   "cell_type": "code",
   "execution_count": 8,
   "id": "b3875727",
   "metadata": {
    "scrolled": true
   },
   "outputs": [],
   "source": [
    "# task1_df.head()"
   ]
  },
  {
   "cell_type": "code",
   "execution_count": 9,
   "id": "3178c9b3",
   "metadata": {},
   "outputs": [],
   "source": [
    "# group by incoming/outgoing chhanels\n",
    "group_incoming = df_forwards.groupby('incoming_channel_id')['incoming_amount_msat']\n",
    "group_outgoing = df_forwards.groupby('outgoing_channel_id')['outgoing_amount_msat']"
   ]
  },
  {
   "cell_type": "code",
   "execution_count": 10,
   "id": "3b3ab70e",
   "metadata": {
    "scrolled": true
   },
   "outputs": [],
   "source": [
    "# Fill task1_df \n",
    "task1_df['times_incoming'] = df_forwards['incoming_channel_id'].value_counts()\n",
    "task1_df['times_outgoing'] = df_forwards['outgoing_channel_id'].value_counts()\n",
    "task1_df['total_incoming_amt'] = group_incoming.aggregate('sum')\n",
    "task1_df['total_outgoing_amt'] = group_outgoing.aggregate('sum')"
   ]
  },
  {
   "cell_type": "code",
   "execution_count": 11,
   "id": "4d798198",
   "metadata": {},
   "outputs": [],
   "source": [
    "# task1_df.head(3)"
   ]
  },
  {
   "cell_type": "code",
   "execution_count": 12,
   "id": "a0e997a3",
   "metadata": {},
   "outputs": [
    {
     "data": {
      "text/plain": [
       "True"
      ]
     },
     "execution_count": 12,
     "metadata": {},
     "output_type": "execute_result"
    }
   ],
   "source": [
    "# Searching for nan values\n",
    "task1_df.isnull().values.any()"
   ]
  },
  {
   "cell_type": "code",
   "execution_count": 13,
   "id": "15d075ba",
   "metadata": {},
   "outputs": [],
   "source": [
    "# replace nan values for 0s\n",
    "task1_df.fillna(0, inplace=True)"
   ]
  },
  {
   "cell_type": "code",
   "execution_count": 14,
   "id": "02a59216",
   "metadata": {},
   "outputs": [
    {
     "data": {
      "text/plain": [
       "False"
      ]
     },
     "execution_count": 14,
     "metadata": {},
     "output_type": "execute_result"
    }
   ],
   "source": [
    "# Searching for nan values\n",
    "task1_df.isnull().values.any()"
   ]
  },
  {
   "cell_type": "markdown",
   "id": "8e66edab",
   "metadata": {},
   "source": [
    "## Balanced metric\n",
    "The **Balanced metric** shows whether a channel is balanced. Here, we say a channel is balanced when the forwarding activity is going both ways. It is calculated by:<br>\n",
    "<center><i>balanced_rate = min(inbound, outbound) / max(inbound, outbound)</i></center>"
   ]
  },
  {
   "cell_type": "code",
   "execution_count": 15,
   "id": "4ab040fb",
   "metadata": {},
   "outputs": [
    {
     "data": {
      "text/plain": [
       "count    185.000000\n",
       "mean       0.593908\n",
       "std        0.354774\n",
       "min        0.000000\n",
       "25%        0.284634\n",
       "50%        0.710571\n",
       "75%        0.905679\n",
       "max        0.998764\n",
       "dtype: float64"
      ]
     },
     "execution_count": 15,
     "metadata": {},
     "output_type": "execute_result"
    }
   ],
   "source": [
    "# Total amount routed\n",
    "total = task1_df['total_incoming_amt'] + task1_df['total_outgoing_amt']\n",
    "# Compute balance rate of the channels\n",
    "balanced_metric = np.minimum(task1_df['total_incoming_amt'], task1_df['total_outgoing_amt']) / np.maximum(task1_df['total_incoming_amt'], task1_df['total_outgoing_amt'])\n",
    "balanced_metric.describe()"
   ]
  },
  {
   "cell_type": "code",
   "execution_count": 16,
   "id": "499bccc6",
   "metadata": {},
   "outputs": [],
   "source": [
    "# balanced_metric.head(2)"
   ]
  },
  {
   "cell_type": "markdown",
   "id": "fb9c6e5b",
   "metadata": {},
   "source": [
    "The `balanced_metric` is in a scale between 0-1. <br><br>\n",
    "Now let's plot the following: *(inbound/total_amount_routed) vs (outbound/total_amount_routed)*\n",
    "\n",
    "This will show a line where in the middle the balanced channels will be placed."
   ]
  },
  {
   "cell_type": "code",
   "execution_count": 17,
   "id": "199337b5",
   "metadata": {},
   "outputs": [],
   "source": [
    "# This is just for style to the charts\n",
    "import seaborn as sns\n",
    "\n",
    "sns.set_style('darkgrid') # darkgrid, white grid, dark, white and ticks\n",
    "plt.rc('axes', titlesize=16)     # fontsize of the axes title\n",
    "plt.rc('axes', labelsize=13)    # fontsize of the x and y labels\n",
    "plt.rc('xtick', labelsize=12)    # fontsize of the tick labels\n",
    "plt.rc('ytick', labelsize=12)    # fontsize of the tick labels\n",
    "plt.rc('legend', fontsize=12)    # legend fontsize\n",
    "plt.rc('font', size=12)          # controls default text sizes"
   ]
  },
  {
   "cell_type": "code",
   "execution_count": 18,
   "id": "ad7f1ac0",
   "metadata": {
    "scrolled": false
   },
   "outputs": [
    {
     "data": {
      "image/png": "[encoded data removed]",
      "text/plain": [
       "<Figure size 576x432 with 1 Axes>"
      ]
     },
     "metadata": {},
     "output_type": "display_data"
    }
   ],
   "source": [
    "plt.figure(figsize=(8, 6))\n",
    "x = task1_df['total_incoming_amt']/total\n",
    "y = task1_df['total_outgoing_amt']/total\n",
    "plt.scatter(x, y, label='all channels')\n",
    "plt.xlabel('inbound amount msats / total')\n",
    "plt.ylabel('outbound amount msats / total')\n",
    "plt.legend()\n",
    "_ = plt.title('Channels inbound & outbound activity comparison')"
   ]
  },
  {
   "cell_type": "markdown",
   "id": "0afcbc90",
   "metadata": {},
   "source": [
    "We clearly observe a big cluster in the middle, which represents the balanced channels based on their forwarding activity. We can make sure of this if we plot the points with a balanced rate close to 1."
   ]
  },
  {
   "cell_type": "code",
   "execution_count": 19,
   "id": "a00abceb",
   "metadata": {},
   "outputs": [],
   "source": [
    "# Top 60 channels with best balanced rate\n",
    "top60 = balanced_metric.sort_values(ascending=False)[:60]\n",
    "t60_x = task1_df.loc[top60.index, 'total_incoming_amt']\n",
    "t60_y = task1_df.loc[top60.index, 'total_outgoing_amt']"
   ]
  },
  {
   "cell_type": "code",
   "execution_count": 20,
   "id": "d940973a",
   "metadata": {
    "scrolled": false
   },
   "outputs": [
    {
     "data": {
      "image/png": "[encoded data removed]",
      "text/plain": [
       "<Figure size 576x432 with 1 Axes>"
      ]
     },
     "metadata": {},
     "output_type": "display_data"
    }
   ],
   "source": [
    "plt.figure(figsize=(8,6))\n",
    "x = task1_df['total_incoming_amt']/total\n",
    "y = task1_df['total_outgoing_amt']/total\n",
    "plt.scatter(x, y)\n",
    "plt.scatter(t60_x/total, t60_y/total)\n",
    "plt.xlabel('inbound amount msats / total')\n",
    "plt.ylabel('outbound amount msats / total')\n",
    "_ = plt.title('Channels inbound & outbound activity comparison')"
   ]
  },
  {
   "cell_type": "markdown",
   "id": "d4d1b578",
   "metadata": {},
   "source": [
    "We can confirm that this balanced channels analysis is correct"
   ]
  },
  {
   "cell_type": "markdown",
   "id": "5d40e81c",
   "metadata": {},
   "source": [
    "## Balanced rate vs normalized volume\n",
    "\n",
    "We've already stablished a balanced metric to show which channels are balanced. If we plot it against a normalized version of the total volume, i.e. inbound + outbound, we'll see which channels are both balanced and highly active."
   ]
  },
  {
   "cell_type": "code",
   "execution_count": 21,
   "id": "af3b8aae",
   "metadata": {},
   "outputs": [],
   "source": [
    "# normalizing total volume\n",
    "total_volume = total.values\n",
    "norm = total_volume/np.linalg.norm(total_volume)\n",
    "norm_volume = pd.Series(norm, index=total.index)"
   ]
  },
  {
   "cell_type": "code",
   "execution_count": 22,
   "id": "080fe545",
   "metadata": {},
   "outputs": [
    {
     "data": {
      "image/png": "[encoded data removed]",
      "text/plain": [
       "<Figure size 576x432 with 1 Axes>"
      ]
     },
     "metadata": {},
     "output_type": "display_data"
    }
   ],
   "source": [
    "plt.figure(figsize=(8,6))\n",
    "\n",
    "plt.scatter(balanced_metric, norm_volume)\n",
    "plt.xlabel('Balanced rate')\n",
    "plt.ylabel('Normalized volume')\n",
    "\n",
    "x_avg = (balanced_metric.min() + balanced_metric.max()) / 2\n",
    "y_avg = (norm_volume.min() + norm_volume.max())/2\n",
    "plt.axvline(x_avg, c='black', lw=1)\n",
    "plt.axhline(y_avg, c='black', lw=1)\n",
    "_ = plt.title('Balanced rate vs Normalized volume')"
   ]
  },
  {
   "cell_type": "markdown",
   "id": "6dc3fe47",
   "metadata": {},
   "source": [
    "We observe a 4 tile grid, where in Q1 are located the most balanced and highly active channels"
   ]
  },
  {
   "cell_type": "markdown",
   "id": "a0e6e7f3",
   "metadata": {},
   "source": [
    "We can see who these channels are:"
   ]
  },
  {
   "cell_type": "code",
   "execution_count": 23,
   "id": "b04f5a50",
   "metadata": {},
   "outputs": [],
   "source": [
    "balanced_metric.name, norm_volume.name = \"balanced_rate\", \"normalized_volume\"\n",
    "channels_comparison = pd.merge(balanced_metric, norm_volume, left_index=True, right_index=True)\n",
    "# query for channels in Q1\n",
    "mask = (channels_comparison['balanced_rate'] > 0.5) & (channels_comparison['normalized_volume'] > y_avg)"
   ]
  },
  {
   "cell_type": "code",
   "execution_count": 24,
   "id": "81657f90",
   "metadata": {},
   "outputs": [],
   "source": [
    "# Uncomment the cell below to see the channels that are the most balanced and highly active"
   ]
  },
  {
   "cell_type": "code",
   "execution_count": 25,
   "id": "5c800091",
   "metadata": {},
   "outputs": [],
   "source": [
    "# channels_comparison[mask]"
   ]
  },
  {
   "cell_type": "markdown",
   "id": "1c642730",
   "metadata": {},
   "source": [
    "## Balanced rate vs normalized revenue\n",
    "\n",
    "We can do a similar this as above but with a normalized version of the total revenue earned per channels instead of the volume. This will show what channels are both balanced and generate value overall."
   ]
  },
  {
   "cell_type": "code",
   "execution_count": 26,
   "id": "d9d61ccb",
   "metadata": {},
   "outputs": [],
   "source": [
    "# total revenue\n",
    "total_revenue_df = df_forwards.groupby('outgoing_channel_id')['fee_msat'].aggregate('sum')\n",
    "# normalizing revenue\n",
    "total_revenue = total_revenue_df.values\n",
    "norm = total_revenue/np.linalg.norm(total_revenue)\n",
    "norm_revenue = pd.Series(norm, index=total.index)"
   ]
  },
  {
   "cell_type": "code",
   "execution_count": 27,
   "id": "1a69cf14",
   "metadata": {
    "scrolled": false
   },
   "outputs": [
    {
     "data": {
      "image/png": "[encoded data removed]",
      "text/plain": [
       "<Figure size 576x432 with 1 Axes>"
      ]
     },
     "metadata": {},
     "output_type": "display_data"
    }
   ],
   "source": [
    "plt.figure(figsize=(8,6))\n",
    "plt.scatter(balanced_metric, norm_revenue)\n",
    "\n",
    "plt.xlabel('Balanced metric')\n",
    "plt.ylabel('Normalized total revenue')\n",
    "# 4 tile grid\n",
    "x_avg = (balanced_metric.min() + balanced_metric.max()) / 2\n",
    "y_avg = (norm_revenue.min() + norm_revenue.max())/2\n",
    "plt.axvline(x_avg, c='black', lw=1)\n",
    "plt.axhline(y_avg, c='black', lw=1)\n",
    "_ = plt.title('Normalized total revenue vs balanced metric')"
   ]
  },
  {
   "cell_type": "markdown",
   "id": "ecf34611",
   "metadata": {},
   "source": [
    "We also observe a 4 tile grid where in Q1 are the channels that are the most balanced and generate the most value."
   ]
  },
  {
   "cell_type": "markdown",
   "id": "d08b21d6",
   "metadata": {},
   "source": [
    "We can see who these channels are:"
   ]
  },
  {
   "cell_type": "code",
   "execution_count": 28,
   "id": "3a5635a0",
   "metadata": {},
   "outputs": [],
   "source": [
    "norm_revenue.name = \"normalized_revenue\"\n",
    "channels_comparison = pd.merge(channels_comparison, norm_revenue, left_index=True, right_index=True)\n",
    "# query for channels in Q1\n",
    "mask = (channels_comparison['balanced_rate'] > 0.5) & (channels_comparison['normalized_revenue'] > y_avg)"
   ]
  },
  {
   "cell_type": "code",
   "execution_count": 29,
   "id": "1d7fe907",
   "metadata": {},
   "outputs": [],
   "source": [
    "# Uncomment the cell below to see the channels that are the most balanced and generate the most value"
   ]
  },
  {
   "cell_type": "code",
   "execution_count": 30,
   "id": "43d01365",
   "metadata": {},
   "outputs": [],
   "source": [
    "# channels_comparison[mask]"
   ]
  },
  {
   "cell_type": "markdown",
   "id": "d3ee2522",
   "metadata": {},
   "source": [
    "# HTLC data analysis"
   ]
  },
  {
   "cell_type": "markdown",
   "id": "62f91f5a",
   "metadata": {},
   "source": [
    "**Uploading htlc dataset**"
   ]
  },
  {
   "cell_type": "code",
   "execution_count": 31,
   "id": "a3d18599",
   "metadata": {},
   "outputs": [],
   "source": [
    "htlc_path = '../Datos/htlc_2022-06-29.csv'\n",
    "df_htlc = pd.read_csv(htlc_path)"
   ]
  },
  {
   "cell_type": "code",
   "execution_count": 32,
   "id": "763e7d06",
   "metadata": {},
   "outputs": [],
   "source": [
    "# df_htlc.head()"
   ]
  },
  {
   "cell_type": "code",
   "execution_count": 33,
   "id": "92077cf7",
   "metadata": {},
   "outputs": [],
   "source": [
    "df_htlc[['outgoing_channel_id', 'incoming_channel_id']] = df_htlc[['outgoing_channel_id', \n",
    "                                                                   'incoming_channel_id']].astype(np.int64)"
   ]
  },
  {
   "cell_type": "code",
   "execution_count": 34,
   "id": "e14f0f49",
   "metadata": {},
   "outputs": [
    {
     "data": {
      "text/plain": [
       "array(['FORWARD', 'RECEIVE', 'SEND', '3', '2', '1', 3, 2, 1], dtype=object)"
      ]
     },
     "execution_count": 34,
     "metadata": {},
     "output_type": "execute_result"
    }
   ],
   "source": [
    "df_htlc['event_origin'].unique()\n",
    "# Forward events are labeld as 'FORWARD' & '3'"
   ]
  },
  {
   "cell_type": "code",
   "execution_count": 35,
   "id": "52316cb7",
   "metadata": {},
   "outputs": [],
   "source": [
    "# Filtering df to have only forward events\n",
    "mask = ((df_htlc['event_origin'] == 'FORWARD') | (df_htlc['event_origin'] == '3'))"
   ]
  },
  {
   "cell_type": "code",
   "execution_count": 36,
   "id": "be66050a",
   "metadata": {},
   "outputs": [
    {
     "data": {
      "text/plain": [
       "array(['FORWARD', '3'], dtype=object)"
      ]
     },
     "execution_count": 36,
     "metadata": {},
     "output_type": "execute_result"
    }
   ],
   "source": [
    "df_htlc[mask]['event_origin'].unique()"
   ]
  },
  {
   "cell_type": "code",
   "execution_count": 37,
   "id": "0f77dadc",
   "metadata": {},
   "outputs": [
    {
     "name": "stdout",
     "output_type": "stream",
     "text": [
      "1052356 htlcs\n"
     ]
    }
   ],
   "source": [
    "# Apply filter\n",
    "htlc_forwards = df_htlc[mask]\n",
    "print(f'{htlc_forwards.shape[0]} htlcs')"
   ]
  },
  {
   "cell_type": "code",
   "execution_count": 38,
   "id": "5dcb6d79",
   "metadata": {},
   "outputs": [],
   "source": [
    "# fails\n",
    "ForwardFailEvents = htlc_forwards[htlc_forwards['event_type'] == 'ForwardFailEvent']\n",
    "df_failures = ForwardFailEvents.copy()"
   ]
  },
  {
   "cell_type": "code",
   "execution_count": 39,
   "id": "d8e47d3e",
   "metadata": {},
   "outputs": [
    {
     "name": "stdout",
     "output_type": "stream",
     "text": [
      "This node has recorded 497639 htlcs failures\n"
     ]
    }
   ],
   "source": [
    "print(f'This node has recorded {ForwardFailEvents.shape[0]} htlcs failures')"
   ]
  },
  {
   "cell_type": "markdown",
   "id": "51999e53",
   "metadata": {},
   "source": [
    "## Success rate"
   ]
  },
  {
   "cell_type": "markdown",
   "id": "dfad6f38",
   "metadata": {},
   "source": [
    "This measures how successful a channel is, in a scale from 0-1, where a 1 means the channel has successfully forwarded all payments"
   ]
  },
  {
   "cell_type": "code",
   "execution_count": 40,
   "id": "e0b2852c",
   "metadata": {},
   "outputs": [],
   "source": [
    "# failures\n",
    "failures = df_failures.groupby('outgoing_channel_id').size()\n",
    "# forward attempts\n",
    "mask = htlc_forwards['event_type'] == 'ForwardEvent'\n",
    "fwd_att = htlc_forwards[mask].groupby('outgoing_channel_id').size()"
   ]
  },
  {
   "cell_type": "code",
   "execution_count": 41,
   "id": "d70625a7",
   "metadata": {},
   "outputs": [],
   "source": [
    "success_rate = (1-(failures/fwd_att))"
   ]
  },
  {
   "cell_type": "code",
   "execution_count": 42,
   "id": "8b8ef48f",
   "metadata": {},
   "outputs": [],
   "source": [
    "# success_rate.sort_values()"
   ]
  },
  {
   "cell_type": "markdown",
   "id": "2108cfb3",
   "metadata": {
    "scrolled": true
   },
   "source": [
    "## See failure rate of the nodes our channels are linked to"
   ]
  },
  {
   "cell_type": "code",
   "execution_count": 43,
   "id": "9b5a4443",
   "metadata": {
    "scrolled": true
   },
   "outputs": [],
   "source": [
    "channels_path = '../Datos/channel_events_2022-06-29.csv'\n",
    "df_channels = pd.read_csv(channels_path)\n",
    "df_channels['chan_id'] = df_channels['chan_id'].astype(np.int64)"
   ]
  },
  {
   "cell_type": "code",
   "execution_count": 44,
   "id": "eb6d5054",
   "metadata": {},
   "outputs": [],
   "source": [
    "# df_channels.head(3)"
   ]
  },
  {
   "cell_type": "code",
   "execution_count": 45,
   "id": "442a5043",
   "metadata": {},
   "outputs": [],
   "source": [
    "# Node events dataset (node alias)\n",
    "nodes_path = '../Datos/node_events_2022-06-29.csv'\n",
    "df_nodes = pd.read_csv(nodes_path)"
   ]
  },
  {
   "cell_type": "code",
   "execution_count": 46,
   "id": "d0f63f5d",
   "metadata": {},
   "outputs": [],
   "source": [
    "# df_nodes.head(3)"
   ]
  },
  {
   "cell_type": "code",
   "execution_count": 47,
   "id": "75bb7910",
   "metadata": {},
   "outputs": [],
   "source": [
    "# fails\n",
    "ForwardFailEvents = htlc_forwards[htlc_forwards['event_type'] == 'ForwardFailEvent']"
   ]
  },
  {
   "cell_type": "code",
   "execution_count": 48,
   "id": "94cb6b37",
   "metadata": {},
   "outputs": [],
   "source": [
    "# ForwardFailEvents.head(3)"
   ]
  },
  {
   "cell_type": "code",
   "execution_count": 49,
   "id": "d7fa4794",
   "metadata": {},
   "outputs": [],
   "source": [
    "# total\n",
    "total_fws = htlc_forwards.copy()\n",
    "total_fws.time = pd.to_datetime(total_fws.time)\n",
    "total_df = total_fws.set_index('time')"
   ]
  },
  {
   "cell_type": "code",
   "execution_count": 50,
   "id": "c7061916",
   "metadata": {},
   "outputs": [],
   "source": [
    "ForwardFailEvents.time = pd.to_datetime(ForwardFailEvents.time)"
   ]
  },
  {
   "cell_type": "code",
   "execution_count": 51,
   "id": "2640dfd6",
   "metadata": {},
   "outputs": [],
   "source": [
    "FFE_df = ForwardFailEvents.set_index('time')"
   ]
  },
  {
   "cell_type": "code",
   "execution_count": 52,
   "id": "d535fe8b",
   "metadata": {},
   "outputs": [],
   "source": [
    "def add_pubkey(fails, channels):\n",
    "    channels = channels.drop_duplicates(['chan_id'], keep='last')\n",
    "    channels['chan_id'] = channels['chan_id'].astype(np.int64)\n",
    "    fails['pubkey'] = ''\n",
    "    out_chan_ids = fails['outgoing_channel_id'].unique()\n",
    "    \n",
    "    for i in out_chan_ids:\n",
    "        \n",
    "        for z, j in channels[['chan_id', 'pub_key']].iterrows():\n",
    "            \n",
    "            if i == j['chan_id']:\n",
    "                fails.loc[fails['outgoing_channel_id'] == i, 'pubkey'] = j['pub_key']\n",
    "                \n",
    "                break\n",
    "                \n",
    "    return fails['pubkey']"
   ]
  },
  {
   "cell_type": "code",
   "execution_count": 53,
   "id": "3801d4c2",
   "metadata": {},
   "outputs": [],
   "source": [
    "total_df['pubkey'] = add_pubkey(total_df, df_channels)"
   ]
  },
  {
   "cell_type": "code",
   "execution_count": 54,
   "id": "123bb6c9",
   "metadata": {},
   "outputs": [
    {
     "data": {
      "text/plain": [
       "(1052356, 15)"
      ]
     },
     "execution_count": 54,
     "metadata": {},
     "output_type": "execute_result"
    }
   ],
   "source": [
    "total_df.shape"
   ]
  },
  {
   "cell_type": "code",
   "execution_count": 55,
   "id": "7dad2022",
   "metadata": {
    "scrolled": true
   },
   "outputs": [],
   "source": [
    "FFE_df['pubkey'] = add_pubkey(FFE_df, df_channels)"
   ]
  },
  {
   "cell_type": "code",
   "execution_count": 56,
   "id": "9c4a00db",
   "metadata": {},
   "outputs": [],
   "source": [
    "# ForwardFailEvents.head(3)"
   ]
  },
  {
   "cell_type": "code",
   "execution_count": 57,
   "id": "877302e8",
   "metadata": {},
   "outputs": [],
   "source": [
    "# FFE_df.head(3)"
   ]
  },
  {
   "cell_type": "code",
   "execution_count": 58,
   "id": "93a13afe",
   "metadata": {},
   "outputs": [],
   "source": [
    "failures = FFE_df.groupby('pubkey').size()"
   ]
  },
  {
   "cell_type": "code",
   "execution_count": 59,
   "id": "9da29065",
   "metadata": {},
   "outputs": [
    {
     "data": {
      "text/plain": [
       "pubkey\n",
       "0203f3e0fdaa52ca5c804d145b6a47e5a620c02123106578230061deb212e720bd    3097\n",
       "0205306aa071fc026a4884c210d99d886f199068a6ccc65ec1bde085f846be3641    4098\n",
       "dtype: int64"
      ]
     },
     "execution_count": 59,
     "metadata": {},
     "output_type": "execute_result"
    }
   ],
   "source": [
    "failures.head(2)"
   ]
  },
  {
   "cell_type": "code",
   "execution_count": 60,
   "id": "f1759443",
   "metadata": {},
   "outputs": [],
   "source": [
    "total = total_df[total_df['event_type'] == 'ForwardEvent'].groupby('pubkey').size()"
   ]
  },
  {
   "cell_type": "code",
   "execution_count": 61,
   "id": "0bd39f4f",
   "metadata": {},
   "outputs": [
    {
     "data": {
      "text/plain": [
       "pubkey\n",
       "0203f3e0fdaa52ca5c804d145b6a47e5a620c02123106578230061deb212e720bd    3104\n",
       "0205306aa071fc026a4884c210d99d886f199068a6ccc65ec1bde085f846be3641    4113\n",
       "dtype: int64"
      ]
     },
     "execution_count": 61,
     "metadata": {},
     "output_type": "execute_result"
    }
   ],
   "source": [
    "total.head(2)"
   ]
  },
  {
   "cell_type": "code",
   "execution_count": 62,
   "id": "3be12a66",
   "metadata": {},
   "outputs": [
    {
     "data": {
      "text/plain": [
       "pubkey\n",
       "037659a0ac8eb3b8d0a720114efc861d3a940382dcfa1403746b4f8f6b2e8810ba    0.698182\n",
       "0253064653c3c2b52ea76201a24771580ac562902fb603b7b077c347a2420d7190    0.694900\n",
       "021c97a90a411ff2b10dc2a8e32de2f29d2fa49d41bfbb52bd416e460db0747d0d    0.423077\n",
       "030ed0e8c35b473e0cdf3b384262688be36a2a7bb61ecf34c836df5b29c81dcd79    0.374199\n",
       "022ba42f1a9a7b5ee9f3a783b02ce401c06930414fd1386c714a9987d51f3b475a    0.266667\n",
       "dtype: float64"
      ]
     },
     "execution_count": 62,
     "metadata": {},
     "output_type": "execute_result"
    }
   ],
   "source": [
    "success_rate_failures = (1-(failures/total))\n",
    "success_rate = success_rate_failures.copy()\n",
    "success_rate.sort_values(ascending=False).iloc[:5]"
   ]
  },
  {
   "cell_type": "code",
   "execution_count": 63,
   "id": "54835dc4",
   "metadata": {},
   "outputs": [
    {
     "data": {
      "text/plain": [
       "118"
      ]
     },
     "execution_count": 63,
     "metadata": {},
     "output_type": "execute_result"
    }
   ],
   "source": [
    "success_rate.reset_index()['pubkey'].nunique()"
   ]
  },
  {
   "cell_type": "markdown",
   "id": "6b0b7881",
   "metadata": {},
   "source": [
    "This are some nodes of interest in our special case"
   ]
  },
  {
   "cell_type": "code",
   "execution_count": 64,
   "id": "b76bedd5",
   "metadata": {
    "scrolled": false
   },
   "outputs": [],
   "source": [
    "interesting_nodes = ['c-otto.de', 'SWISS.SOVEREIGN', \n",
    "                     'zero fee routing | CLN', 'WalletOfSatoshi.com', \n",
    "                     'bfx-lnd0', 'bfx-lnd1', 'okex', \n",
    "                    'BCash_Is_Trash']\n",
    "pub_keys=['027ce055380348d7812d2ae7745701c9f93e70c1adeb2657f053f91df4f2843c71',\n",
    "          '03d4e028a0d4a90868ec202ab684fb0085779defea9ca7553e06146557631eec20',\n",
    "          '038fe1bd966b5cb0545963490c631eaa1924e2c4c0ea4e7dcb5d4582a1e7f2f1a5',\n",
    "          '035e4ff418fc8b5554c5d9eea66396c227bd429a3251c8cbc711002ba215bfc226',\n",
    "          '033d8656219478701227199cbd6f670335c8d408a92ae88b962c49d4dc0e83e025',\n",
    "          '03cde60a6323f7122d5178255766e38114b4722ede08f7c9e0c5df9b912cc201d6',\n",
    "          '0294ac3e099def03c12a37e30fe5364b1223fd60069869142ef96580c8439c2e0a',\n",
    "          '0298f6074a454a1f5345cb2a7c6f9fce206cd0bf675d177cdbf0ca7508dd28852f']"
   ]
  },
  {
   "cell_type": "markdown",
   "id": "a87fcf87",
   "metadata": {},
   "source": [
    "## SEE ALL NODES BEHAVIOUR IN OUR GRAPH\n",
    "\n",
    "See the metrics obtained so far for the nodes our channels are linked to"
   ]
  },
  {
   "cell_type": "code",
   "execution_count": 65,
   "id": "3a6897de",
   "metadata": {},
   "outputs": [],
   "source": [
    "def add_node_alias(rate_df, nodes):\n",
    "\n",
    "    rate_df = rate_df.reset_index()\n",
    "    rate_df['node_alias'] = ''\n",
    "#     print(rate_df)\n",
    "    nodes_pubkeys = rate_df['pubkey'].unique()\n",
    "    \n",
    "    for i in nodes_pubkeys:\n",
    "        \n",
    "        for ix, j in nodes[['pub_key', 'alias']].iterrows():\n",
    "            \n",
    "            if i == j['pub_key']:\n",
    "                rate_df.loc[rate_df['pubkey'] == i, 'node_alias'] = j['alias']\n",
    "                \n",
    "                break\n",
    "    rate_df = rate_df.set_index('pubkey')\n",
    "    \n",
    "    return rate_df['node_alias']\n",
    "    "
   ]
  },
  {
   "cell_type": "code",
   "execution_count": 66,
   "id": "4c8d2989",
   "metadata": {
    "scrolled": true
   },
   "outputs": [
    {
     "data": {
      "text/plain": [
       "pubkey\n",
       "0203f3e0fdaa52ca5c804d145b6a47e5a620c02123106578230061deb212e720bd    0.002255\n",
       "0205306aa071fc026a4884c210d99d886f199068a6ccc65ec1bde085f846be3641    0.003647\n",
       "dtype: float64"
      ]
     },
     "execution_count": 66,
     "metadata": {},
     "output_type": "execute_result"
    }
   ],
   "source": [
    "success_rate.head(2)"
   ]
  },
  {
   "cell_type": "code",
   "execution_count": 67,
   "id": "a5ee88be",
   "metadata": {},
   "outputs": [],
   "source": [
    "s_r_df = success_rate.copy()\n",
    "s_r_df = s_r_df.reset_index()\n",
    "s_r_df['alias'] = ''\n",
    "s_r_df.set_index('pubkey', inplace=True)"
   ]
  },
  {
   "cell_type": "code",
   "execution_count": 68,
   "id": "2773f8af",
   "metadata": {},
   "outputs": [
    {
     "data": {
      "text/html": [
       "<div>\n",
       "<style scoped>\n",
       "    .dataframe tbody tr th:only-of-type {\n",
       "        vertical-align: middle;\n",
       "    }\n",
       "\n",
       "    .dataframe tbody tr th {\n",
       "        vertical-align: top;\n",
       "    }\n",
       "\n",
       "    .dataframe thead th {\n",
       "        text-align: right;\n",
       "    }\n",
       "</style>\n",
       "<table border=\"1\" class=\"dataframe\">\n",
       "  <thead>\n",
       "    <tr style=\"text-align: right;\">\n",
       "      <th></th>\n",
       "      <th>0</th>\n",
       "      <th>alias</th>\n",
       "    </tr>\n",
       "    <tr>\n",
       "      <th>pubkey</th>\n",
       "      <th></th>\n",
       "      <th></th>\n",
       "    </tr>\n",
       "  </thead>\n",
       "  <tbody>\n",
       "    <tr>\n",
       "      <th>0203f3e0fdaa52ca5c804d145b6a47e5a620c02123106578230061deb212e720bd</th>\n",
       "      <td>0.002255</td>\n",
       "      <td></td>\n",
       "    </tr>\n",
       "    <tr>\n",
       "      <th>0205306aa071fc026a4884c210d99d886f199068a6ccc65ec1bde085f846be3641</th>\n",
       "      <td>0.003647</td>\n",
       "      <td></td>\n",
       "    </tr>\n",
       "  </tbody>\n",
       "</table>\n",
       "</div>"
      ],
      "text/plain": [
       "                                                           0 alias\n",
       "pubkey                                                            \n",
       "0203f3e0fdaa52ca5c804d145b6a47e5a620c0212310657...  0.002255      \n",
       "0205306aa071fc026a4884c210d99d886f199068a6ccc65...  0.003647      "
      ]
     },
     "execution_count": 68,
     "metadata": {},
     "output_type": "execute_result"
    }
   ],
   "source": [
    "s_r_df.head(2)"
   ]
  },
  {
   "cell_type": "code",
   "execution_count": 69,
   "id": "002c7e76",
   "metadata": {
    "scrolled": true
   },
   "outputs": [],
   "source": [
    "# Adding node alias \n",
    "s_r_df['alias'] = add_node_alias(success_rate, df_nodes)"
   ]
  },
  {
   "cell_type": "code",
   "execution_count": 70,
   "id": "2bcbe06c",
   "metadata": {},
   "outputs": [],
   "source": [
    "s_r_df.rename({0:'success_rate'}, axis=1, inplace=True)"
   ]
  },
  {
   "cell_type": "code",
   "execution_count": 71,
   "id": "92342f48",
   "metadata": {},
   "outputs": [
    {
     "data": {
      "text/html": [
       "<div>\n",
       "<style scoped>\n",
       "    .dataframe tbody tr th:only-of-type {\n",
       "        vertical-align: middle;\n",
       "    }\n",
       "\n",
       "    .dataframe tbody tr th {\n",
       "        vertical-align: top;\n",
       "    }\n",
       "\n",
       "    .dataframe thead th {\n",
       "        text-align: right;\n",
       "    }\n",
       "</style>\n",
       "<table border=\"1\" class=\"dataframe\">\n",
       "  <thead>\n",
       "    <tr style=\"text-align: right;\">\n",
       "      <th></th>\n",
       "      <th>success_rate</th>\n",
       "      <th>alias</th>\n",
       "    </tr>\n",
       "    <tr>\n",
       "      <th>pubkey</th>\n",
       "      <th></th>\n",
       "      <th></th>\n",
       "    </tr>\n",
       "  </thead>\n",
       "  <tbody>\n",
       "    <tr>\n",
       "      <th>037659a0ac8eb3b8d0a720114efc861d3a940382dcfa1403746b4f8f6b2e8810ba</th>\n",
       "      <td>0.698182</td>\n",
       "      <td>ln.nicehash.com [Nicehash]</td>\n",
       "    </tr>\n",
       "    <tr>\n",
       "      <th>0253064653c3c2b52ea76201a24771580ac562902fb603b7b077c347a2420d7190</th>\n",
       "      <td>0.694900</td>\n",
       "      <td>noserver4u</td>\n",
       "    </tr>\n",
       "    <tr>\n",
       "      <th>021c97a90a411ff2b10dc2a8e32de2f29d2fa49d41bfbb52bd416e460db0747d0d</th>\n",
       "      <td>0.423077</td>\n",
       "      <td>LOOP</td>\n",
       "    </tr>\n",
       "  </tbody>\n",
       "</table>\n",
       "</div>"
      ],
      "text/plain": [
       "                                                    success_rate  \\\n",
       "pubkey                                                             \n",
       "037659a0ac8eb3b8d0a720114efc861d3a940382dcfa140...      0.698182   \n",
       "0253064653c3c2b52ea76201a24771580ac562902fb603b...      0.694900   \n",
       "021c97a90a411ff2b10dc2a8e32de2f29d2fa49d41bfbb5...      0.423077   \n",
       "\n",
       "                                                                         alias  \n",
       "pubkey                                                                          \n",
       "037659a0ac8eb3b8d0a720114efc861d3a940382dcfa140...  ln.nicehash.com [Nicehash]  \n",
       "0253064653c3c2b52ea76201a24771580ac562902fb603b...                  noserver4u  \n",
       "021c97a90a411ff2b10dc2a8e32de2f29d2fa49d41bfbb5...                        LOOP  "
      ]
     },
     "execution_count": 71,
     "metadata": {},
     "output_type": "execute_result"
    }
   ],
   "source": [
    "s_r_df.sort_values(by='success_rate', ascending=False).head(3)"
   ]
  },
  {
   "cell_type": "markdown",
   "id": "0ba6fe99",
   "metadata": {},
   "source": [
    "**Adding balanced metric**"
   ]
  },
  {
   "cell_type": "code",
   "execution_count": 72,
   "id": "13a2194f",
   "metadata": {},
   "outputs": [],
   "source": [
    "def add_pubkey2(series, channels):\n",
    "    channels = channels.drop_duplicates(['chan_id'], keep='last')\n",
    "    channels['chan_id'] = channels['chan_id'].astype(np.int64)\n",
    "    series = series.reset_index().rename({'index':'outgoing_channel_id',\n",
    "                                      0:'balanced_metric'}, axis=1)\n",
    "    series['pubkey'] = ''\n",
    "    out_chan_ids = series['outgoing_channel_id'].unique()\n",
    "    \n",
    "    for i in out_chan_ids:\n",
    "        \n",
    "        for z, j in channels[['chan_id', 'pub_key']].iterrows():\n",
    "            \n",
    "            if i == j['chan_id']:\n",
    "                series.loc[series['outgoing_channel_id'] == i, 'pubkey'] = j['pub_key']\n",
    "                \n",
    "                break\n",
    "#     print(series.index)     \n",
    "    return series['pubkey']"
   ]
  },
  {
   "cell_type": "code",
   "execution_count": 73,
   "id": "4cb13ded",
   "metadata": {
    "scrolled": true
   },
   "outputs": [],
   "source": [
    "b_m_df = balanced_metric.copy()\n",
    "b_m_df = b_m_df.reset_index()\n",
    "b_m_df['pubkey'] = add_pubkey2(balanced_metric, df_channels)\n",
    "\n",
    "b_m_df.set_index('pubkey', inplace=True)"
   ]
  },
  {
   "cell_type": "code",
   "execution_count": 74,
   "id": "f21d8cb1",
   "metadata": {},
   "outputs": [],
   "source": [
    "# droping duplicates\n",
    "# duplicates occur because sometimes you close a channel and open another one with the same peer.\n",
    "b_m_df = b_m_df.reset_index().sort_values(by='balanced_rate').drop_duplicates('pubkey', keep='last')"
   ]
  },
  {
   "cell_type": "code",
   "execution_count": 75,
   "id": "50e1f39d",
   "metadata": {},
   "outputs": [],
   "source": [
    "b_m_df.set_index('pubkey', inplace=True)"
   ]
  },
  {
   "cell_type": "markdown",
   "id": "15aae280",
   "metadata": {},
   "source": [
    "**Join balanced metric and success rate in the same df**"
   ]
  },
  {
   "cell_type": "code",
   "execution_count": 76,
   "id": "ad7cb699",
   "metadata": {},
   "outputs": [],
   "source": [
    "comparing_node_df = pd.merge(s_r_df, b_m_df['balanced_rate'], left_index=True, right_index=True)"
   ]
  },
  {
   "cell_type": "code",
   "execution_count": 77,
   "id": "3f925f12",
   "metadata": {
    "scrolled": false
   },
   "outputs": [
    {
     "data": {
      "text/html": [
       "<div>\n",
       "<style scoped>\n",
       "    .dataframe tbody tr th:only-of-type {\n",
       "        vertical-align: middle;\n",
       "    }\n",
       "\n",
       "    .dataframe tbody tr th {\n",
       "        vertical-align: top;\n",
       "    }\n",
       "\n",
       "    .dataframe thead th {\n",
       "        text-align: right;\n",
       "    }\n",
       "</style>\n",
       "<table border=\"1\" class=\"dataframe\">\n",
       "  <thead>\n",
       "    <tr style=\"text-align: right;\">\n",
       "      <th></th>\n",
       "      <th>success_rate</th>\n",
       "      <th>alias</th>\n",
       "      <th>balanced_rate</th>\n",
       "    </tr>\n",
       "    <tr>\n",
       "      <th>pubkey</th>\n",
       "      <th></th>\n",
       "      <th></th>\n",
       "      <th></th>\n",
       "    </tr>\n",
       "  </thead>\n",
       "  <tbody>\n",
       "    <tr>\n",
       "      <th>037659a0ac8eb3b8d0a720114efc861d3a940382dcfa1403746b4f8f6b2e8810ba</th>\n",
       "      <td>0.698182</td>\n",
       "      <td>ln.nicehash.com [Nicehash]</td>\n",
       "      <td>0.730948</td>\n",
       "    </tr>\n",
       "    <tr>\n",
       "      <th>0253064653c3c2b52ea76201a24771580ac562902fb603b7b077c347a2420d7190</th>\n",
       "      <td>0.694900</td>\n",
       "      <td>noserver4u</td>\n",
       "      <td>0.998764</td>\n",
       "    </tr>\n",
       "    <tr>\n",
       "      <th>021c97a90a411ff2b10dc2a8e32de2f29d2fa49d41bfbb52bd416e460db0747d0d</th>\n",
       "      <td>0.423077</td>\n",
       "      <td>LOOP</td>\n",
       "      <td>0.000000</td>\n",
       "    </tr>\n",
       "    <tr>\n",
       "      <th>030ed0e8c35b473e0cdf3b384262688be36a2a7bb61ecf34c836df5b29c81dcd79</th>\n",
       "      <td>0.374199</td>\n",
       "      <td>FriendsWithBenefits</td>\n",
       "      <td>0.959066</td>\n",
       "    </tr>\n",
       "    <tr>\n",
       "      <th>022ba42f1a9a7b5ee9f3a783b02ce401c06930414fd1386c714a9987d51f3b475a</th>\n",
       "      <td>0.266667</td>\n",
       "      <td>Routing24/7Bitcoin</td>\n",
       "      <td>0.000000</td>\n",
       "    </tr>\n",
       "    <tr>\n",
       "      <th>...</th>\n",
       "      <td>...</td>\n",
       "      <td>...</td>\n",
       "      <td>...</td>\n",
       "    </tr>\n",
       "    <tr>\n",
       "      <th>026db2cbf3d8ab4a4c01eed2df432d20cf0a13136402097574209d2595cb9e9d93</th>\n",
       "      <td>0.000000</td>\n",
       "      <td>⚡️ bCyber ⚡️</td>\n",
       "      <td>0.000000</td>\n",
       "    </tr>\n",
       "    <tr>\n",
       "      <th>02fc63f7b07cc69c756d432f77ce36ce4e5dbe24f43f3638f38f726d7ac1d9ecc4</th>\n",
       "      <td>0.000000</td>\n",
       "      <td>JDs.Connection</td>\n",
       "      <td>0.981045</td>\n",
       "    </tr>\n",
       "    <tr>\n",
       "      <th>0296b46141cd8baf13f3eff9bb217c5f62ce0a871886559d661af0ef422c042d4b</th>\n",
       "      <td>0.000000</td>\n",
       "      <td>EDON</td>\n",
       "      <td>0.874059</td>\n",
       "    </tr>\n",
       "    <tr>\n",
       "      <th>0382b31dcff337311bf919411c5073c9c9a129890993f94f4a16eaaeffd91c7788</th>\n",
       "      <td>0.000000</td>\n",
       "      <td>lnnodeinsight.com</td>\n",
       "      <td>0.746872</td>\n",
       "    </tr>\n",
       "    <tr>\n",
       "      <th>035a95bdafeaec089ded020248939b636296ea32e8cf9a0b6af70e9e517f703fce</th>\n",
       "      <td>NaN</td>\n",
       "      <td>otech</td>\n",
       "      <td>0.000051</td>\n",
       "    </tr>\n",
       "  </tbody>\n",
       "</table>\n",
       "<p>114 rows × 3 columns</p>\n",
       "</div>"
      ],
      "text/plain": [
       "                                                    success_rate  \\\n",
       "pubkey                                                             \n",
       "037659a0ac8eb3b8d0a720114efc861d3a940382dcfa140...      0.698182   \n",
       "0253064653c3c2b52ea76201a24771580ac562902fb603b...      0.694900   \n",
       "021c97a90a411ff2b10dc2a8e32de2f29d2fa49d41bfbb5...      0.423077   \n",
       "030ed0e8c35b473e0cdf3b384262688be36a2a7bb61ecf3...      0.374199   \n",
       "022ba42f1a9a7b5ee9f3a783b02ce401c06930414fd1386...      0.266667   \n",
       "...                                                          ...   \n",
       "026db2cbf3d8ab4a4c01eed2df432d20cf0a13136402097...      0.000000   \n",
       "02fc63f7b07cc69c756d432f77ce36ce4e5dbe24f43f363...      0.000000   \n",
       "0296b46141cd8baf13f3eff9bb217c5f62ce0a871886559...      0.000000   \n",
       "0382b31dcff337311bf919411c5073c9c9a129890993f94...      0.000000   \n",
       "035a95bdafeaec089ded020248939b636296ea32e8cf9a0...           NaN   \n",
       "\n",
       "                                                                         alias  \\\n",
       "pubkey                                                                           \n",
       "037659a0ac8eb3b8d0a720114efc861d3a940382dcfa140...  ln.nicehash.com [Nicehash]   \n",
       "0253064653c3c2b52ea76201a24771580ac562902fb603b...                  noserver4u   \n",
       "021c97a90a411ff2b10dc2a8e32de2f29d2fa49d41bfbb5...                        LOOP   \n",
       "030ed0e8c35b473e0cdf3b384262688be36a2a7bb61ecf3...         FriendsWithBenefits   \n",
       "022ba42f1a9a7b5ee9f3a783b02ce401c06930414fd1386...          Routing24/7Bitcoin   \n",
       "...                                                                        ...   \n",
       "026db2cbf3d8ab4a4c01eed2df432d20cf0a13136402097...                ⚡️ bCyber ⚡️   \n",
       "02fc63f7b07cc69c756d432f77ce36ce4e5dbe24f43f363...              JDs.Connection   \n",
       "0296b46141cd8baf13f3eff9bb217c5f62ce0a871886559...                        EDON   \n",
       "0382b31dcff337311bf919411c5073c9c9a129890993f94...           lnnodeinsight.com   \n",
       "035a95bdafeaec089ded020248939b636296ea32e8cf9a0...                       otech   \n",
       "\n",
       "                                                    balanced_rate  \n",
       "pubkey                                                             \n",
       "037659a0ac8eb3b8d0a720114efc861d3a940382dcfa140...       0.730948  \n",
       "0253064653c3c2b52ea76201a24771580ac562902fb603b...       0.998764  \n",
       "021c97a90a411ff2b10dc2a8e32de2f29d2fa49d41bfbb5...       0.000000  \n",
       "030ed0e8c35b473e0cdf3b384262688be36a2a7bb61ecf3...       0.959066  \n",
       "022ba42f1a9a7b5ee9f3a783b02ce401c06930414fd1386...       0.000000  \n",
       "...                                                           ...  \n",
       "026db2cbf3d8ab4a4c01eed2df432d20cf0a13136402097...       0.000000  \n",
       "02fc63f7b07cc69c756d432f77ce36ce4e5dbe24f43f363...       0.981045  \n",
       "0296b46141cd8baf13f3eff9bb217c5f62ce0a871886559...       0.874059  \n",
       "0382b31dcff337311bf919411c5073c9c9a129890993f94...       0.746872  \n",
       "035a95bdafeaec089ded020248939b636296ea32e8cf9a0...       0.000051  \n",
       "\n",
       "[114 rows x 3 columns]"
      ]
     },
     "execution_count": 77,
     "metadata": {},
     "output_type": "execute_result"
    }
   ],
   "source": [
    "comparing_node_df.sort_values(by='success_rate', ascending=False)"
   ]
  },
  {
   "cell_type": "code",
   "execution_count": 78,
   "id": "59602ee5",
   "metadata": {},
   "outputs": [],
   "source": [
    "best_success_rate_nodes = success_rate.sort_values(ascending=False).iloc[:30]"
   ]
  },
  {
   "cell_type": "code",
   "execution_count": 79,
   "id": "420eec91",
   "metadata": {},
   "outputs": [],
   "source": [
    "comparing_node_df['total_Forwards'] = total_df.groupby('pubkey')['event_type'].value_counts()[:,'ForwardEvent']"
   ]
  },
  {
   "cell_type": "code",
   "execution_count": 80,
   "id": "5c01c172",
   "metadata": {},
   "outputs": [],
   "source": [
    "# comparing_node_df.head(3)"
   ]
  },
  {
   "cell_type": "code",
   "execution_count": 81,
   "id": "5dec8a2c",
   "metadata": {},
   "outputs": [
    {
     "data": {
      "text/html": [
       "<div>\n",
       "<style scoped>\n",
       "    .dataframe tbody tr th:only-of-type {\n",
       "        vertical-align: middle;\n",
       "    }\n",
       "\n",
       "    .dataframe tbody tr th {\n",
       "        vertical-align: top;\n",
       "    }\n",
       "\n",
       "    .dataframe thead th {\n",
       "        text-align: right;\n",
       "    }\n",
       "</style>\n",
       "<table border=\"1\" class=\"dataframe\">\n",
       "  <thead>\n",
       "    <tr style=\"text-align: right;\">\n",
       "      <th></th>\n",
       "      <th>success_rate</th>\n",
       "      <th>alias</th>\n",
       "      <th>balanced_rate</th>\n",
       "      <th>total_Forwards</th>\n",
       "    </tr>\n",
       "    <tr>\n",
       "      <th>pubkey</th>\n",
       "      <th></th>\n",
       "      <th></th>\n",
       "      <th></th>\n",
       "      <th></th>\n",
       "    </tr>\n",
       "  </thead>\n",
       "  <tbody>\n",
       "    <tr>\n",
       "      <th>0298f6074a454a1f5345cb2a7c6f9fce206cd0bf675d177cdbf0ca7508dd28852f</th>\n",
       "      <td>0.009389</td>\n",
       "      <td>BCash_Is_Trash</td>\n",
       "      <td>0.889287</td>\n",
       "      <td>32486.0</td>\n",
       "    </tr>\n",
       "    <tr>\n",
       "      <th>027ce055380348d7812d2ae7745701c9f93e70c1adeb2657f053f91df4f2843c71</th>\n",
       "      <td>0.026347</td>\n",
       "      <td>c-otto.de</td>\n",
       "      <td>0.983971</td>\n",
       "      <td>29225.0</td>\n",
       "    </tr>\n",
       "    <tr>\n",
       "      <th>038fe1bd966b5cb0545963490c631eaa1924e2c4c0ea4e7dcb5d4582a1e7f2f1a5</th>\n",
       "      <td>0.035517</td>\n",
       "      <td>zero fee routing | c-lightning</td>\n",
       "      <td>0.992703</td>\n",
       "      <td>20863.0</td>\n",
       "    </tr>\n",
       "    <tr>\n",
       "      <th>033d8656219478701227199cbd6f670335c8d408a92ae88b962c49d4dc0e83e025</th>\n",
       "      <td>0.015461</td>\n",
       "      <td>bfx-lnd0</td>\n",
       "      <td>0.484106</td>\n",
       "      <td>3040.0</td>\n",
       "    </tr>\n",
       "    <tr>\n",
       "      <th>03d4e028a0d4a90868ec202ab684fb0085779defea9ca7553e06146557631eec20</th>\n",
       "      <td>0.032591</td>\n",
       "      <td>SWISS.SOVEREIGN</td>\n",
       "      <td>0.927653</td>\n",
       "      <td>1258.0</td>\n",
       "    </tr>\n",
       "    <tr>\n",
       "      <th>0294ac3e099def03c12a37e30fe5364b1223fd60069869142ef96580c8439c2e0a</th>\n",
       "      <td>0.084677</td>\n",
       "      <td>okex</td>\n",
       "      <td>0.791212</td>\n",
       "      <td>744.0</td>\n",
       "    </tr>\n",
       "    <tr>\n",
       "      <th>035e4ff418fc8b5554c5d9eea66396c227bd429a3251c8cbc711002ba215bfc226</th>\n",
       "      <td>0.225564</td>\n",
       "      <td>WalletOfSatoshi.com</td>\n",
       "      <td>0.792625</td>\n",
       "      <td>133.0</td>\n",
       "    </tr>\n",
       "    <tr>\n",
       "      <th>03cde60a6323f7122d5178255766e38114b4722ede08f7c9e0c5df9b912cc201d6</th>\n",
       "      <td>0.166667</td>\n",
       "      <td>bfx-lnd1</td>\n",
       "      <td>0.040178</td>\n",
       "      <td>90.0</td>\n",
       "    </tr>\n",
       "  </tbody>\n",
       "</table>\n",
       "</div>"
      ],
      "text/plain": [
       "                                                    success_rate  \\\n",
       "pubkey                                                             \n",
       "0298f6074a454a1f5345cb2a7c6f9fce206cd0bf675d177...      0.009389   \n",
       "027ce055380348d7812d2ae7745701c9f93e70c1adeb265...      0.026347   \n",
       "038fe1bd966b5cb0545963490c631eaa1924e2c4c0ea4e7...      0.035517   \n",
       "033d8656219478701227199cbd6f670335c8d408a92ae88...      0.015461   \n",
       "03d4e028a0d4a90868ec202ab684fb0085779defea9ca75...      0.032591   \n",
       "0294ac3e099def03c12a37e30fe5364b1223fd600698691...      0.084677   \n",
       "035e4ff418fc8b5554c5d9eea66396c227bd429a3251c8c...      0.225564   \n",
       "03cde60a6323f7122d5178255766e38114b4722ede08f7c...      0.166667   \n",
       "\n",
       "                                                                             alias  \\\n",
       "pubkey                                                                               \n",
       "0298f6074a454a1f5345cb2a7c6f9fce206cd0bf675d177...                  BCash_Is_Trash   \n",
       "027ce055380348d7812d2ae7745701c9f93e70c1adeb265...                       c-otto.de   \n",
       "038fe1bd966b5cb0545963490c631eaa1924e2c4c0ea4e7...  zero fee routing | c-lightning   \n",
       "033d8656219478701227199cbd6f670335c8d408a92ae88...                        bfx-lnd0   \n",
       "03d4e028a0d4a90868ec202ab684fb0085779defea9ca75...                 SWISS.SOVEREIGN   \n",
       "0294ac3e099def03c12a37e30fe5364b1223fd600698691...                            okex   \n",
       "035e4ff418fc8b5554c5d9eea66396c227bd429a3251c8c...             WalletOfSatoshi.com   \n",
       "03cde60a6323f7122d5178255766e38114b4722ede08f7c...                        bfx-lnd1   \n",
       "\n",
       "                                                    balanced_rate  \\\n",
       "pubkey                                                              \n",
       "0298f6074a454a1f5345cb2a7c6f9fce206cd0bf675d177...       0.889287   \n",
       "027ce055380348d7812d2ae7745701c9f93e70c1adeb265...       0.983971   \n",
       "038fe1bd966b5cb0545963490c631eaa1924e2c4c0ea4e7...       0.992703   \n",
       "033d8656219478701227199cbd6f670335c8d408a92ae88...       0.484106   \n",
       "03d4e028a0d4a90868ec202ab684fb0085779defea9ca75...       0.927653   \n",
       "0294ac3e099def03c12a37e30fe5364b1223fd600698691...       0.791212   \n",
       "035e4ff418fc8b5554c5d9eea66396c227bd429a3251c8c...       0.792625   \n",
       "03cde60a6323f7122d5178255766e38114b4722ede08f7c...       0.040178   \n",
       "\n",
       "                                                    total_Forwards  \n",
       "pubkey                                                              \n",
       "0298f6074a454a1f5345cb2a7c6f9fce206cd0bf675d177...         32486.0  \n",
       "027ce055380348d7812d2ae7745701c9f93e70c1adeb265...         29225.0  \n",
       "038fe1bd966b5cb0545963490c631eaa1924e2c4c0ea4e7...         20863.0  \n",
       "033d8656219478701227199cbd6f670335c8d408a92ae88...          3040.0  \n",
       "03d4e028a0d4a90868ec202ab684fb0085779defea9ca75...          1258.0  \n",
       "0294ac3e099def03c12a37e30fe5364b1223fd600698691...           744.0  \n",
       "035e4ff418fc8b5554c5d9eea66396c227bd429a3251c8c...           133.0  \n",
       "03cde60a6323f7122d5178255766e38114b4722ede08f7c...            90.0  "
      ]
     },
     "execution_count": 81,
     "metadata": {},
     "output_type": "execute_result"
    }
   ],
   "source": [
    "# Seeing the behaviour of the nodes of interest\n",
    "comparing_node_df.loc[pub_keys,:].sort_values(by='total_Forwards', ascending=False)"
   ]
  },
  {
   "cell_type": "markdown",
   "id": "21c3ca6e",
   "metadata": {},
   "source": [
    "We see that as the total number of forwards sent from a channel to that node increases, the success_rate decreases. This is only for the nodes of interest here."
   ]
  },
  {
   "cell_type": "code",
   "execution_count": 82,
   "id": "c9cd820e",
   "metadata": {},
   "outputs": [
    {
     "data": {
      "image/png": "[encoded data removed]",
      "text/plain": [
       "<Figure size 432x288 with 1 Axes>"
      ]
     },
     "metadata": {},
     "output_type": "display_data"
    }
   ],
   "source": [
    "# We can see if the above idea generalizes with a scatter plot comparing those features\n",
    "plt.scatter(comparing_node_df['total_Forwards'], comparing_node_df['success_rate'])\n",
    "plt.xlabel('Total Forwards')\n",
    "plt.ylabel('Success rate')\n",
    "_ = plt.title('Forwards vs success rate')"
   ]
  },
  {
   "cell_type": "markdown",
   "id": "e20b744b",
   "metadata": {},
   "source": [
    "We are only interested in routing nodes. So we might filter some data"
   ]
  },
  {
   "cell_type": "code",
   "execution_count": 83,
   "id": "e762c8f5",
   "metadata": {},
   "outputs": [],
   "source": [
    "the_filter = comparing_node_df.describe().loc['25%', 'total_Forwards']\n",
    "# filter out channels whose total_forwards feature is less than the 25th quantile\n",
    "# and whose success_rate is considered as outlier (this can be subjective now)\n",
    "outlier_scc_rate = 0.35 # You can change this value based on the chart above."
   ]
  },
  {
   "cell_type": "code",
   "execution_count": 84,
   "id": "446f21eb",
   "metadata": {},
   "outputs": [],
   "source": [
    "active_routing_nodes = comparing_node_df[(comparing_node_df['total_Forwards'] > the_filter) & (comparing_node_df['success_rate'] < outlier_scc_rate)]"
   ]
  },
  {
   "cell_type": "code",
   "execution_count": 85,
   "id": "240b64bb",
   "metadata": {},
   "outputs": [
    {
     "data": {
      "image/png": "[encoded data removed]",
      "text/plain": [
       "<Figure size 432x288 with 1 Axes>"
      ]
     },
     "metadata": {},
     "output_type": "display_data"
    }
   ],
   "source": [
    "# active_routing_nodes = comparing_node_df[comparing_node_df['total_Forwards'] > the_filter]\n",
    "\n",
    "plt.scatter(active_routing_nodes['total_Forwards'], active_routing_nodes['success_rate'])\n",
    "plt.xlabel('Total Forwards')\n",
    "plt.ylabel('Success rate')\n",
    "_ = plt.title('Forwards vs success rate')"
   ]
  },
  {
   "cell_type": "markdown",
   "id": "5819101a",
   "metadata": {},
   "source": [
    "We observe that the channels with bigger success rate are also the ones with not that much total forwards. This might suggest that in order to increase the success rate of a channel, increasing the forward attempts of the channel has not a big weight on it."
   ]
  },
  {
   "cell_type": "code",
   "execution_count": 86,
   "id": "40df050e",
   "metadata": {},
   "outputs": [],
   "source": [
    "import seaborn as sns"
   ]
  },
  {
   "cell_type": "code",
   "execution_count": 87,
   "id": "f59b1175",
   "metadata": {},
   "outputs": [
    {
     "data": {
      "image/png": "[encoded data removed]",
      "text/plain": [
       "<Figure size 648x504 with 2 Axes>"
      ]
     },
     "metadata": {},
     "output_type": "display_data"
    }
   ],
   "source": [
    "# Compute the correlation matrix\n",
    "corr = active_routing_nodes[['success_rate','balanced_rate','total_Forwards']].corr()\n",
    "\n",
    "# Generate a mask for the upper triangle\n",
    "mask = np.triu(np.ones_like(corr, dtype=bool))\n",
    "\n",
    "# Set up the matplotlib figure\n",
    "f, ax = plt.subplots(figsize=(9, 7))\n",
    "\n",
    "# Generate a custom diverging colormap\n",
    "cmap = sns.diverging_palette(230, 20, as_cmap=True)\n",
    "\n",
    "# Draw the heatmap with the mask and correct aspect ratio\n",
    "sns.heatmap(corr, mask=mask, cmap=cmap, vmax=.3, center=0,\n",
    "            square=True, linewidths=.5, cbar_kws={\"shrink\": .5})\n",
    "\n",
    "_ = plt.title('Correlation Matrix')"
   ]
  },
  {
   "cell_type": "code",
   "execution_count": 88,
   "id": "60d21d10",
   "metadata": {},
   "outputs": [
    {
     "data": {
      "text/html": [
       "<div>\n",
       "<style scoped>\n",
       "    .dataframe tbody tr th:only-of-type {\n",
       "        vertical-align: middle;\n",
       "    }\n",
       "\n",
       "    .dataframe tbody tr th {\n",
       "        vertical-align: top;\n",
       "    }\n",
       "\n",
       "    .dataframe thead th {\n",
       "        text-align: right;\n",
       "    }\n",
       "</style>\n",
       "<table border=\"1\" class=\"dataframe\">\n",
       "  <thead>\n",
       "    <tr style=\"text-align: right;\">\n",
       "      <th></th>\n",
       "      <th>success_rate</th>\n",
       "      <th>balanced_rate</th>\n",
       "      <th>total_Forwards</th>\n",
       "    </tr>\n",
       "  </thead>\n",
       "  <tbody>\n",
       "    <tr>\n",
       "      <th>success_rate</th>\n",
       "      <td>1.000000</td>\n",
       "      <td>0.276779</td>\n",
       "      <td>-0.131584</td>\n",
       "    </tr>\n",
       "    <tr>\n",
       "      <th>balanced_rate</th>\n",
       "      <td>0.276779</td>\n",
       "      <td>1.000000</td>\n",
       "      <td>0.213419</td>\n",
       "    </tr>\n",
       "    <tr>\n",
       "      <th>total_Forwards</th>\n",
       "      <td>-0.131584</td>\n",
       "      <td>0.213419</td>\n",
       "      <td>1.000000</td>\n",
       "    </tr>\n",
       "  </tbody>\n",
       "</table>\n",
       "</div>"
      ],
      "text/plain": [
       "                success_rate  balanced_rate  total_Forwards\n",
       "success_rate        1.000000       0.276779       -0.131584\n",
       "balanced_rate       0.276779       1.000000        0.213419\n",
       "total_Forwards     -0.131584       0.213419        1.000000"
      ]
     },
     "execution_count": 88,
     "metadata": {},
     "output_type": "execute_result"
    }
   ],
   "source": [
    "corr"
   ]
  },
  {
   "cell_type": "code",
   "execution_count": 96,
   "id": "3503654e",
   "metadata": {},
   "outputs": [
    {
     "data": {
      "image/png": "[encoded data removed]",
      "text/plain": [
       "<Figure size 576x432 with 1 Axes>"
      ]
     },
     "metadata": {},
     "output_type": "display_data"
    }
   ],
   "source": [
    "plt.figure(figsize=(8,6))\n",
    "plt.scatter(active_routing_nodes['balanced_rate'], active_routing_nodes['success_rate'])\n",
    "plt.xlabel('balanced_rate')\n",
    "plt.ylabel('success_rate')\n",
    "_ = plt.title('relation between balanced and success metrics')"
   ]
  },
  {
   "cell_type": "code",
   "execution_count": 95,
   "id": "e34d30ef",
   "metadata": {},
   "outputs": [
    {
     "data": {
      "image/png": "[encoded data removed]",
      "text/plain": [
       "<Figure size 576x432 with 1 Axes>"
      ]
     },
     "metadata": {},
     "output_type": "display_data"
    }
   ],
   "source": [
    "plt.figure(figsize=(8,6))\n",
    "plt.scatter(active_routing_nodes['balanced_rate'], active_routing_nodes['total_Forwards'])\n",
    "plt.xlabel('balanced rate')\n",
    "plt.ylabel('total forwards')\n",
    "_ = plt.title('relation between balanced and total forwards')"
   ]
  },
  {
   "cell_type": "markdown",
   "id": "a3fe7de3",
   "metadata": {},
   "source": [
    "- We can see there's a positive correlation between the balanced rate and the success rate. When a channel is balanced, then  there's a chance it's success rate is better than other channels. It makes sense, since when you have a channel that, due to its outbound & inbound forwarding behaviour it balances naturally, then it can keep sending and receiving forwards, without them failing due to that channel.\n",
    "- We observe the total forwards and success rate have a weak negative correlation. Once again, we can say this might suggest that in order to increase the success rate of a channel, increasing the forward attempts of the channel has not a big weight on it.\n",
    "- We see in the correlation matrix a positive correlation between the balaced rate of a channel an its total forward attempts. The LND path-finding algorithm takes into account the degree to which former payment attempts have been successful. Then, if a channel has a good success rate, by the *relation between balanced and success metrics* described above, it might have a good balanced rate as well. If it performs well, then the forwards sent through that channel might increase, as the path-finding algorithm will take it into account more times."
   ]
  },
  {
   "cell_type": "code",
   "execution_count": 92,
   "id": "cb4f8591",
   "metadata": {},
   "outputs": [],
   "source": [
    "# Uncomment the cell below to save the active routing nodes df for future analysis"
   ]
  },
  {
   "cell_type": "code",
   "execution_count": 93,
   "id": "fcefe25f",
   "metadata": {},
   "outputs": [],
   "source": [
    "# active_routing_nodes.to_csv('active_routing_nodes.csv', encoding='utf-8')"
   ]
  }
 ],
 "metadata": {
  "kernelspec": {
   "display_name": "Python 3 (ipykernel)",
   "language": "python",
   "name": "python3"
  },
  "language_info": {
   "codemirror_mode": {
    "name": "ipython",
    "version": 3
   },
   "file_extension": ".py",
   "mimetype": "text/x-python",
   "name": "python",
   "nbconvert_exporter": "python",
   "pygments_lexer": "ipython3",
   "version": "3.8.12"
  }
 },
 "nbformat": 4,
 "nbformat_minor": 5
}
